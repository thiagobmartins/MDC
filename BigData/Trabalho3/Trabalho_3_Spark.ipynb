{
  "nbformat": 4,
  "nbformat_minor": 0,
  "metadata": {
    "colab": {
      "name": "Trabalho 3 - Spark",
      "provenance": [],
      "collapsed_sections": []
    },
    "kernelspec": {
      "name": "python3",
      "display_name": "Python 3"
    }
  },
  "cells": [
    {
      "cell_type": "markdown",
      "metadata": {
        "id": "sdneipizkmfT"
      },
      "source": [
        "# Membros do Grupo\n",
        "* Daniele Montenegro da Silva Barros\n",
        "* Rodrigo Dantas da Silva\n",
        "* Thiago Bruschi Martins\n"
      ]
    },
    {
      "cell_type": "markdown",
      "metadata": {
        "id": "pZrBq6MYZx-h"
      },
      "source": [
        "# Dados de Entrada\n",
        "\n",
        "*   [Pacote de dados](https://drive.google.com/drive/folders/1YT8iYFBM9rCHWW0LBx1pVVckbeBANzC9?usp=sharing)\n",
        "  *   Selecione \"Adicionar ao Drive\"\n",
        "*   [Descrição dos dados](https://drive.google.com/file/d/1wu1yfR1A0A0Tl8Jl1ZNNuowr88YEFtXS/view?usp=sharing)\n",
        "\n",
        "\n",
        "\n",
        "\n"
      ]
    },
    {
      "cell_type": "code",
      "metadata": {
        "id": "SAgm1b_iEW9l",
        "colab": {
          "base_uri": "https://localhost:8080/"
        },
        "outputId": "ee8c07a2-3375-42c0-c278-c06edb5059c8"
      },
      "source": [
        "from google.colab import drive\n",
        "drive.mount('/content/drive')"
      ],
      "execution_count": 1,
      "outputs": [
        {
          "output_type": "stream",
          "name": "stdout",
          "text": [
            "Mounted at /content/drive\n"
          ]
        }
      ]
    },
    {
      "cell_type": "markdown",
      "metadata": {
        "id": "kNY4NS1pgk9N"
      },
      "source": [
        "# Instalação de pacotes"
      ]
    },
    {
      "cell_type": "code",
      "metadata": {
        "id": "BuquY0rfYhPK",
        "colab": {
          "base_uri": "https://localhost:8080/"
        },
        "outputId": "e82e5311-76cb-4b52-a5b8-d504eed059ce"
      },
      "source": [
        "!wget -q https://downloads.apache.org/spark/spark-3.2.0/spark-3.2.0-bin-hadoop3.2.tgz\n",
        "!tar xf spark-3.2.0-bin-hadoop3.2.tgz\n",
        "!pip install findspark pyspark "
      ],
      "execution_count": 2,
      "outputs": [
        {
          "output_type": "stream",
          "name": "stdout",
          "text": [
            "Collecting findspark\n",
            "  Downloading findspark-1.4.2-py2.py3-none-any.whl (4.2 kB)\n",
            "Collecting pyspark\n",
            "  Downloading pyspark-3.2.0.tar.gz (281.3 MB)\n",
            "\u001b[K     |████████████████████████████████| 281.3 MB 37 kB/s \n",
            "\u001b[?25hCollecting py4j==0.10.9.2\n",
            "  Downloading py4j-0.10.9.2-py2.py3-none-any.whl (198 kB)\n",
            "\u001b[K     |████████████████████████████████| 198 kB 55.9 MB/s \n",
            "\u001b[?25hBuilding wheels for collected packages: pyspark\n",
            "  Building wheel for pyspark (setup.py) ... \u001b[?25l\u001b[?25hdone\n",
            "  Created wheel for pyspark: filename=pyspark-3.2.0-py2.py3-none-any.whl size=281805912 sha256=42af7024b81ef65fd84471c21389b87e619f3f75e6aeb7e5a4b0ce8663227f81\n",
            "  Stored in directory: /root/.cache/pip/wheels/0b/de/d2/9be5d59d7331c6c2a7c1b6d1a4f463ce107332b1ecd4e80718\n",
            "Successfully built pyspark\n",
            "Installing collected packages: py4j, pyspark, findspark\n",
            "Successfully installed findspark-1.4.2 py4j-0.10.9.2 pyspark-3.2.0\n"
          ]
        }
      ]
    },
    {
      "cell_type": "markdown",
      "metadata": {
        "id": "8b0DSUv3g0WJ"
      },
      "source": [
        "# Preparação do ambiente"
      ]
    },
    {
      "cell_type": "code",
      "metadata": {
        "id": "Y4elg4PSY52O",
        "colab": {
          "base_uri": "https://localhost:8080/"
        },
        "outputId": "ea6f145e-46fa-40f0-dc7f-8a03a221746c"
      },
      "source": [
        "%env PYTHONHASHSEED=1234\n",
        "%env JAVA_HOME=/usr/lib/jvm/default-java\n",
        "%env SPARK_HOME=/content/spark-3.2.0-bin-hadoop3.2"
      ],
      "execution_count": 3,
      "outputs": [
        {
          "output_type": "stream",
          "name": "stdout",
          "text": [
            "env: PYTHONHASHSEED=1234\n",
            "env: JAVA_HOME=/usr/lib/jvm/default-java\n",
            "env: SPARK_HOME=/content/spark-3.2.0-bin-hadoop3.2\n"
          ]
        }
      ]
    },
    {
      "cell_type": "code",
      "metadata": {
        "id": "W0gLXPcaY8L6"
      },
      "source": [
        "import findspark\n",
        "findspark.init(\"/content/spark-3.2.0-bin-hadoop3.2\")"
      ],
      "execution_count": 4,
      "outputs": []
    },
    {
      "cell_type": "code",
      "metadata": {
        "id": "umR86cbmZAQv"
      },
      "source": [
        "from pyspark.sql import SparkSession\n",
        "from pyspark.sql import Row\n",
        "from pyspark.sql.types import *\n",
        "from pyspark.sql.functions import *\n",
        "from pyspark.sql import Window\n",
        "\n",
        "\n",
        "from datetime import datetime\n",
        "\n",
        "appName = 'Big Data'\n",
        "master = 'local'\n",
        "\n",
        "spark = SparkSession.builder     \\\n",
        "    .master(master) \\\n",
        "    .appName(appName) \\\n",
        "    .getOrCreate()\n",
        "\n",
        "spark.sparkContext.setLogLevel(\"WARN\")"
      ],
      "execution_count": 5,
      "outputs": []
    },
    {
      "cell_type": "markdown",
      "metadata": {
        "id": "dPjIkCSGh1UX"
      },
      "source": [
        "# Leitura dos dados e criação de dataframes"
      ]
    },
    {
      "cell_type": "code",
      "metadata": {
        "id": "UGaSan2Ca5h2"
      },
      "source": [
        "def read_line(line) :\n",
        "  tipo = line[0:2]\n",
        "  if tipo == '01' :\n",
        "    yield Row(data=datetime.strptime(line[2:10], '%Y%m%d'),\n",
        "               codbdi=int(line[10:12]),\n",
        "               codneg=line[12:24].strip(),\n",
        "               tpmerc=int(line[24:27]),\n",
        "               especi=line[39:49].replace('*', '').replace(' ',''),\n",
        "               preult=float(line[108:121])/100)\n",
        "\n",
        "\n"
      ],
      "execution_count": 6,
      "outputs": []
    },
    {
      "cell_type": "markdown",
      "metadata": {
        "id": "9VvhxJrJYWbW"
      },
      "source": [
        "# Implementação"
      ]
    },
    {
      "cell_type": "code",
      "metadata": {
        "id": "qTv9usIaOKmm"
      },
      "source": [
        "# Modifique esta linha para incluir dados de outros anos na solução final\n",
        "input_data = spark.sparkContext.textFile('/content/drive/My Drive/b3/COTAHIST*')\n",
        "cotacoes = input_data.flatMap(read_line).toDF()"
      ],
      "execution_count": 7,
      "outputs": []
    },
    {
      "cell_type": "markdown",
      "metadata": {
        "id": "1DwjU_npOIs5"
      },
      "source": [
        "## Filtros"
      ]
    },
    {
      "cell_type": "code",
      "metadata": {
        "id": "gIC6VVRSmIzf",
        "colab": {
          "base_uri": "https://localhost:8080/"
        },
        "outputId": "dfea2bbc-d4ae-459c-d80b-effe80278f9b"
      },
      "source": [
        "# Tipo de Registro é igual a 01 - Cotação Histórica --> Esse já foi feito na função read_line\n",
        "# Código do Boletim Diário de Informações (BDI) é igual a 02 - Lote Padrão\n",
        "# Tipo de Mercado é igual a 010 - Mercado à Vista\n",
        "cotacoes_sel = cotacoes.filter((cotacoes.codbdi == 2) & (cotacoes.tpmerc == 10))\n",
        "\n",
        "# Agora vamos selecionar o codigo das empresas que possuem \n",
        "# alguma cotacao com especificação diferente de ON e ONNM\n",
        "cotacoes_dif = cotacoes_sel.filter((cotacoes_sel.especi != 'ON') & (cotacoes_sel.especi != 'ONNM')).select('codneg').distinct()\n",
        "\n",
        "# Utilizando o join lef_anti, podemos filtrar quais cotacoes\n",
        "# estao na lista anterior\n",
        "cotacoes_ONNM = cotacoes_sel.join(cotacoes_dif, 'codneg', 'left_anti')\n",
        "cotacoes_ONNM.show()"
      ],
      "execution_count": 8,
      "outputs": [
        {
          "output_type": "stream",
          "name": "stdout",
          "text": [
            "+------+-------------------+------+------+------+------+\n",
            "|codneg|               data|codbdi|tpmerc|especi|preult|\n",
            "+------+-------------------+------+------+------+------+\n",
            "| ROS 3|1995-06-07 00:00:00|     2|    10|    ON|   1.1|\n",
            "| ROS 3|1995-07-13 00:00:00|     2|    10|    ON|   1.1|\n",
            "| ROS 3|1995-10-17 00:00:00|     2|    10|    ON|   1.0|\n",
            "| SNS 3|1995-01-18 00:00:00|     2|    10|    ON| 650.0|\n",
            "| SNS 3|1995-02-21 00:00:00|     2|    10|    ON| 500.0|\n",
            "| SNS 3|1995-02-24 00:00:00|     2|    10|    ON| 750.0|\n",
            "| SNS 3|1995-03-07 00:00:00|     2|    10|    ON| 400.0|\n",
            "| SNS 3|1995-03-09 00:00:00|     2|    10|    ON| 400.0|\n",
            "| SNS 3|1995-04-26 00:00:00|     2|    10|    ON| 450.0|\n",
            "| SNS 3|1995-05-24 00:00:00|     2|    10|    ON| 450.0|\n",
            "| SNS 3|1995-06-13 00:00:00|     2|    10|    ON| 400.0|\n",
            "| SNS 3|1995-07-11 00:00:00|     2|    10|    ON| 430.0|\n",
            "| ZAN 3|1995-01-13 00:00:00|     2|    10|    ON|  50.0|\n",
            "| ZAN 3|1995-02-09 00:00:00|     2|    10|    ON|  45.0|\n",
            "| ZAN 3|1995-02-16 00:00:00|     2|    10|    ON|  42.0|\n",
            "| ZAN 3|1995-05-23 00:00:00|     2|    10|    ON|  39.0|\n",
            "| ZAN 3|1995-05-24 00:00:00|     2|    10|    ON|  36.0|\n",
            "| ZAN 3|1995-05-26 00:00:00|     2|    10|    ON|  36.0|\n",
            "| ZAN 3|1995-06-05 00:00:00|     2|    10|    ON|  32.5|\n",
            "| ZAN 3|1995-11-07 00:00:00|     2|    10|    ON|  35.0|\n",
            "+------+-------------------+------+------+------+------+\n",
            "only showing top 20 rows\n",
            "\n"
          ]
        }
      ]
    },
    {
      "cell_type": "markdown",
      "metadata": {
        "id": "c0uZ7YKeOODe"
      },
      "source": [
        "## Janela"
      ]
    },
    {
      "cell_type": "code",
      "metadata": {
        "id": "bYwHxm6eOPeb"
      },
      "source": [
        "# Criando as janelas por empresas\n",
        "from pyspark.sql import Window\n",
        "w = Window.partitionBy('codneg').orderBy('data')\n",
        "\n",
        "# Aplicando o lag para obter o valor do dia anterior\n",
        "cotacoes_com_anterior = \\\n",
        " cotacoes_ONNM.withColumn('preult_ant', lag('preult', 1).over(w))"
      ],
      "execution_count": 9,
      "outputs": []
    },
    {
      "cell_type": "markdown",
      "metadata": {
        "id": "-uiTvl8lOTq8"
      },
      "source": [
        "## Volatilidade\n",
        "Calculando a variacao e a volatilidade (desvio padrao da variacao)"
      ]
    },
    {
      "cell_type": "code",
      "metadata": {
        "id": "HLu2tNOmOWUy"
      },
      "source": [
        "cotacoes_com_var = cotacoes_com_anterior.withColumn('variacao', ((col('preult') / col('preult_ant')) - 1)*100)\n",
        "cotacoes_com_volat = cotacoes_com_var.groupBy('codneg').agg(stddev_samp('variacao').alias('volat'))"
      ],
      "execution_count": 10,
      "outputs": []
    },
    {
      "cell_type": "markdown",
      "metadata": {
        "id": "3ALCmZfwN6s5"
      },
      "source": [
        "# Resultado"
      ]
    },
    {
      "cell_type": "code",
      "metadata": {
        "colab": {
          "base_uri": "https://localhost:8080/"
        },
        "id": "X50G-jWgN1pP",
        "outputId": "60314680-09d4-4178-82b6-9bad7167580e"
      },
      "source": [
        "cotacoes_final = cotacoes_com_volat.na.drop().select('codneg', round('volat',2).alias('volat'))\n",
        "cotacoes_final.show()"
      ],
      "execution_count": 11,
      "outputs": [
        {
          "output_type": "stream",
          "name": "stdout",
          "text": [
            "+------+-------+\n",
            "|codneg|  volat|\n",
            "+------+-------+\n",
            "| AERI3|   3.53|\n",
            "| AESL3|12094.5|\n",
            "| AGR 3|  40.18|\n",
            "| AHE 3|   11.3|\n",
            "| ALPK3|   1.79|\n",
            "| ALSO3|   4.01|\n",
            "| AMBP3|   2.12|\n",
            "| AMCE3|  43.26|\n",
            "| AMPI3|  33.99|\n",
            "| AORE3|  10.89|\n",
            "| ARA 3|  58.78|\n",
            "| ARL 3|  49.04|\n",
            "| ARP 3|  77.78|\n",
            "| ARTE3|2861.94|\n",
            "| ASS 3|  71.64|\n",
            "| AVLL3|   2.76|\n",
            "| BAN 3|  62.72|\n",
            "| BAQU3|   7.78|\n",
            "| BAR 3|    8.7|\n",
            "| BBVT3|   8.36|\n",
            "+------+-------+\n",
            "only showing top 20 rows\n",
            "\n"
          ]
        }
      ]
    },
    {
      "cell_type": "code",
      "metadata": {
        "colab": {
          "base_uri": "https://localhost:8080/"
        },
        "id": "_mopBC3GcWMy",
        "outputId": "6a58b669-4f5f-4704-b646-39804148c9c7"
      },
      "source": [
        "# Dataframe completo\n",
        "cotacoes_final.show(cotacoes_final.count())"
      ],
      "execution_count": 13,
      "outputs": [
        {
          "output_type": "stream",
          "name": "stdout",
          "text": [
            "+------+-------+\n",
            "|codneg|  volat|\n",
            "+------+-------+\n",
            "| AERI3|   3.53|\n",
            "| AESL3|12094.5|\n",
            "| AGR 3|  40.18|\n",
            "| AHE 3|   11.3|\n",
            "| ALPK3|   1.79|\n",
            "| ALSO3|   4.01|\n",
            "| AMBP3|   2.12|\n",
            "| AMCE3|  43.26|\n",
            "| AMPI3|  33.99|\n",
            "| AORE3|  10.89|\n",
            "| ARA 3|  58.78|\n",
            "| ARL 3|  49.04|\n",
            "| ARP 3|  77.78|\n",
            "| ARTE3|2861.94|\n",
            "| ASS 3|  71.64|\n",
            "| AVLL3|   2.76|\n",
            "| BAN 3|  62.72|\n",
            "| BAQU3|   7.78|\n",
            "| BAR 3|    8.7|\n",
            "| BBVT3|   8.36|\n",
            "| BDE 3|  16.61|\n",
            "| BDEP3|  47.15|\n",
            "| BDL 3|  12.52|\n",
            "| BEE 3|  22.71|\n",
            "| BEG 3|  22.66|\n",
            "| BER 3| 106.96|\n",
            "| BES 3|   5.74|\n",
            "| BHEQ3| 200.43|\n",
            "| BIO 3|   8.69|\n",
            "| BIV 3|  14.88|\n",
            "| BME 3|  21.72|\n",
            "| BMI 3|  28.78|\n",
            "| BNET3|   14.8|\n",
            "| BOAS3|   2.39|\n",
            "| BPAR3|  367.9|\n",
            "| BRD 3|  16.57|\n",
            "| BSEG3|   0.71|\n",
            "| BZN 3|   0.23|\n",
            "| CAF 3|  42.32|\n",
            "| CAFE3|  35.19|\n",
            "| CAL 3|  10.98|\n",
            "| CALI3|  30.51|\n",
            "| CAMB3|   4.15|\n",
            "| CASH3|   3.92|\n",
            "| CBA 3|  31.95|\n",
            "| CBM 3|    4.1|\n",
            "| CBMA3|  19.44|\n",
            "| CCHI3|  13.79|\n",
            "| CDO 3|  16.35|\n",
            "| CECI3|   5.74|\n",
            "| CEE 6|   5.71|\n",
            "| CEL 3|  22.61|\n",
            "| CELM3|  45.51|\n",
            "| CNF 3|    0.0|\n",
            "| CNTO3|   4.25|\n",
            "| COB 3|  14.43|\n",
            "| COC 3|   6.49|\n",
            "| COP 3|  35.64|\n",
            "| COR 3|  36.79|\n",
            "| CPEE3|   5.67|\n",
            "| CRBM3|  49.55|\n",
            "| CRE 3|  24.48|\n",
            "| CRGT3|  14.36|\n",
            "| CSA 3|  35.36|\n",
            "| CSI 3|   8.72|\n",
            "| CSIP3|  38.46|\n",
            "| CSP 3|   14.9|\n",
            "| CSPP3|  67.11|\n",
            "| CTA 3|   50.0|\n",
            "| CTK 3|  44.14|\n",
            "| CTS 3|  10.53|\n",
            "| CTWR3|  14.29|\n",
            "| CURY3|   2.42|\n",
            "| CVPT3|  24.68|\n",
            "| CZA 3|  46.08|\n",
            "| DATA3|   9.52|\n",
            "| DFV 3|  93.02|\n",
            "| DFVA3|  55.92|\n",
            "| DHB 3|  32.41|\n",
            "| DHBI3| 303.77|\n",
            "| DMVF3|   3.69|\n",
            "| DOH 3|  17.68|\n",
            "| DOMO3|   0.51|\n",
            "| DOV 3|  30.86|\n",
            "| DRO 3|  10.63|\n",
            "| EBER3|  34.76|\n",
            "| ECIS3|  40.21|\n",
            "| ECP 3| 103.42|\n",
            "| ELU 3|  25.99|\n",
            "| EMR 3|  34.62|\n",
            "| EMXS3|   27.6|\n",
            "| ENJU3|   3.07|\n",
            "| ENLT3|   9.61|\n",
            "| EST 3|  37.06|\n",
            "| ESTR3| 153.96|\n",
            "| FAP 3|  37.87|\n",
            "| FAPC3|  39.46|\n",
            "| FAT 3| 314.34|\n",
            "| FCAP3|  12.13|\n",
            "| FGO 3|  18.61|\n",
            "| FGOS3|  65.65|\n",
            "| FGU 3|  28.75|\n",
            "| FGUI3|  82.47|\n",
            "| FIG 3|  110.6|\n",
            "| FJT 3|   7.75|\n",
            "| FLB 3| 156.24|\n",
            "| FLBR3|8294.97|\n",
            "| FTRX3|  29.09|\n",
            "| FTS 3|  19.59|\n",
            "| GAF 3|   70.4|\n",
            "| GAFP3|  32.71|\n",
            "| GAL 3|  17.68|\n",
            "| GAZO3|  14.98|\n",
            "| GFTT3| 139.57|\n",
            "| GLO 3|  20.66|\n",
            "| GMAT3|   1.78|\n",
            "| GRN 3|  20.02|\n",
            "| GRNL3|  30.29|\n",
            "| GTDP3|  22.38|\n",
            "| GVTT3|   3.16|\n",
            "| HAGA3|   7.42|\n",
            "| HBSA3|    2.5|\n",
            "| HERI3|   1.15|\n",
            "| HET 3| 100.15|\n",
            "| HETA3|3496.47|\n",
            "| HGN 3|  42.96|\n",
            "| IBP 3|  58.53|\n",
            "| ICF 3|  16.64|\n",
            "| ILM 3|  10.48|\n",
            "| ILMD3| 446.75|\n",
            "| IMB 3|  73.77|\n",
            "| INFM3|  70.71|\n",
            "| IRI 3|   3.71|\n",
            "| IRON3|    1.1|\n",
            "| IVE 3|  20.53|\n",
            "| IVTE3|   30.3|\n",
            "| JBD 3|   37.6|\n",
            "|JBDU11|   4.08|\n",
            "| JFE 3|  21.64|\n",
            "| KLAB3|  23.88|\n",
            "| LAC 3|  76.51|\n",
            "| LAE 3|  28.31|\n",
            "| LAT 3|   4.28|\n",
            "| LAVV3|   2.47|\n",
            "| LCSA3|  36.34|\n",
            "| LET 3|  19.33|\n",
            "| LETO3|  35.58|\n",
            "| LEV 3|   25.0|\n",
            "| LIB 3|    0.0|\n",
            "| LIBP3|   3.14|\n",
            "| LIX 3|  34.58|\n",
            "| LOR 3|  11.72|\n",
            "| LPC 3|    0.0|\n",
            "| MAF 3|  26.05|\n",
            "| MAFE3|  17.71|\n",
            "| MANM3|    6.4|\n",
            "| MAP 3|  31.94|\n",
            "| MAT 3|  29.05|\n",
            "| MATC3|   25.3|\n",
            "| MDNE3|   5.97|\n",
            "| MEC 3|  33.65|\n",
            "| MELK3|   2.51|\n",
            "| MEP 3|   7.27|\n",
            "| MER 3|  17.26|\n",
            "| MGE 3|  49.42|\n",
            "| MIM 3|  47.14|\n",
            "| MNS 3|   9.83|\n",
            "| MNSA3|  40.62|\n",
            "| MSP 3|  89.18|\n",
            "| MTC 3|   0.07|\n",
            "| MTI 3|  42.43|\n",
            "| MTRE3|   4.62|\n",
            "| MTSA3|  22.33|\n",
            "| NAF 3|   3.54|\n",
            "| NGRD3|   8.15|\n",
            "| NOV 3| 3824.8|\n",
            "| OGSA3|    7.4|\n",
            "| ORI 3|   8.32|\n",
            "| ORIO3|   8.39|\n",
            "| PDA 3|   7.82|\n",
            "| PDTC3|   4.91|\n",
            "| PGMN3|   1.65|\n",
            "| PIUM3| 380.72|\n",
            "| PLIM3|  16.28|\n",
            "| PLPL3|   3.36|\n",
            "| POM 3|  13.78|\n",
            "| PRB 3|   47.4|\n",
            "| PRBN3|  18.17|\n",
            "| PRG 3|  24.32|\n",
            "| PRNR3|   4.06|\n",
            "| PRO 3|   15.0|\n",
            "| PRTX3|   3.69|\n",
            "| PTB 3|  49.95|\n",
            "| PTQ 3|   0.05|\n",
            "| RAN 3|8695.19|\n",
            "| RAP 3|  22.65|\n",
            "| RDOR3|   2.11|\n",
            "| RECF3|   0.05|\n",
            "| RHE 3|  19.42|\n",
            "| RHER3|  10.55|\n",
            "| ROS 3|  10.01|\n",
            "| RRRP3|   2.78|\n",
            "| RSI 3|   6.42|\n",
            "| SANO3|  16.13|\n",
            "| SCLO3| 209.27|\n",
            "| SCON3|   4.29|\n",
            "| SDOK3|  13.15|\n",
            "| SEDU3|   3.37|\n",
            "| SEM 3|   8.33|\n",
            "| SEQL3|   2.16|\n",
            "| SGA 3|  10.85|\n",
            "| SGEN3|  40.16|\n",
            "| SHA 3|  25.32|\n",
            "| SHAP3|  30.21|\n",
            "| SIF 3|   23.5|\n",
            "| SIFC3|  50.43|\n",
            "| SIMH3|   2.95|\n",
            "| SJO 3|  24.07|\n",
            "| SJOS3|  37.65|\n",
            "| SLA 5|   1.38|\n",
            "| SLAE3|   1.09|\n",
            "| SNS 3|  21.53|\n",
            "| SNSY3|  47.15|\n",
            "| SOE 3|  43.56|\n",
            "| SOL 3|  11.95|\n",
            "| SOMA3|   2.64|\n",
            "| SON 3|  26.33|\n",
            "| SPC 3|   2.35|\n",
            "| SPPE3|  84.82|\n",
            "| SUL 3|  33.61|\n",
            "| TAM 3|  16.64|\n",
            "| TCN 3|   87.8|\n",
            "| TEK 3|  16.32|\n",
            "| TESE3|   49.4|\n",
            "| TIB 3|  59.49|\n",
            "| TIBR3|  56.35|\n",
            "| TKN 3|  11.73|\n",
            "| TRB 3|  22.48|\n",
            "| TRBR3|  12.51|\n",
            "| TRF 3|  13.22|\n",
            "| TROR3|  35.38|\n",
            "| TXRX3|  62.77|\n",
            "| UBH 3|   5.44|\n",
            "| USG 3|  16.92|\n",
            "| USGE3|    9.2|\n",
            "| VEM 3|   33.4|\n",
            "| VEP 3|  23.38|\n",
            "| VLJ 3|  37.18|\n",
            "| VPSC3| 176.66|\n",
            "| VPTA3|  29.84|\n",
            "| VTE 3|  13.56|\n",
            "| WISA3|  13.63|\n",
            "| WMBY3| 474.42|\n",
            "| ZAN 3|  41.53|\n",
            "| ZIV 3|   42.0|\n",
            "| ZIVI3|27967.5|\n",
            "+------+-------+\n",
            "\n"
          ]
        }
      ]
    }
  ]
}