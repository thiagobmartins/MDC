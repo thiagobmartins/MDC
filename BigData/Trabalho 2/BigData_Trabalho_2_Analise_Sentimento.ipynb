{
  "nbformat": 4,
  "nbformat_minor": 0,
  "metadata": {
    "colab": {
      "name": "BigData: Trabalho 2 - Analise Sentimento.ipynb",
      "provenance": [],
      "collapsed_sections": []
    },
    "kernelspec": {
      "name": "python3",
      "display_name": "Python 3"
    }
  },
  "cells": [
    {
      "cell_type": "markdown",
      "metadata": {
        "id": "Rjo2DnWLs1P8"
      },
      "source": [
        "# Membros do Grupo\n",
        "* Daniele Montenegro da Silva Barros\n",
        "* Rodrigo Dantas da Silva\n",
        "* Thiago Bruschi Martins\n"
      ]
    },
    {
      "cell_type": "markdown",
      "metadata": {
        "id": "1pkxSQ7daQk0"
      },
      "source": [
        "# Pacote de dados\n",
        "\n",
        "\n",
        "*   Abra o link do pacote de dados: https://tinyurl.com/bd10-tweets\n",
        "*   Selecione a opção \"Adicionar Atalho ao Drive\""
      ]
    },
    {
      "cell_type": "code",
      "metadata": {
        "id": "42wAmUtHclQi",
        "colab": {
          "base_uri": "https://localhost:8080/"
        },
        "outputId": "798c4e49-ea39-43c5-dcde-4da39821a5ad"
      },
      "source": [
        "!pip install mrjob nltk twython"
      ],
      "execution_count": 1,
      "outputs": [
        {
          "output_type": "stream",
          "name": "stdout",
          "text": [
            "Collecting mrjob\n",
            "  Downloading mrjob-0.7.4-py2.py3-none-any.whl (439 kB)\n",
            "\u001b[?25l\r\u001b[K     |▊                               | 10 kB 24.3 MB/s eta 0:00:01\r\u001b[K     |█▌                              | 20 kB 30.0 MB/s eta 0:00:01\r\u001b[K     |██▎                             | 30 kB 16.4 MB/s eta 0:00:01\r\u001b[K     |███                             | 40 kB 11.0 MB/s eta 0:00:01\r\u001b[K     |███▊                            | 51 kB 4.5 MB/s eta 0:00:01\r\u001b[K     |████▌                           | 61 kB 4.7 MB/s eta 0:00:01\r\u001b[K     |█████▏                          | 71 kB 4.5 MB/s eta 0:00:01\r\u001b[K     |██████                          | 81 kB 5.1 MB/s eta 0:00:01\r\u001b[K     |██████▊                         | 92 kB 4.9 MB/s eta 0:00:01\r\u001b[K     |███████▌                        | 102 kB 4.2 MB/s eta 0:00:01\r\u001b[K     |████████▏                       | 112 kB 4.2 MB/s eta 0:00:01\r\u001b[K     |█████████                       | 122 kB 4.2 MB/s eta 0:00:01\r\u001b[K     |█████████▊                      | 133 kB 4.2 MB/s eta 0:00:01\r\u001b[K     |██████████▍                     | 143 kB 4.2 MB/s eta 0:00:01\r\u001b[K     |███████████▏                    | 153 kB 4.2 MB/s eta 0:00:01\r\u001b[K     |████████████                    | 163 kB 4.2 MB/s eta 0:00:01\r\u001b[K     |████████████▊                   | 174 kB 4.2 MB/s eta 0:00:01\r\u001b[K     |█████████████▍                  | 184 kB 4.2 MB/s eta 0:00:01\r\u001b[K     |██████████████▏                 | 194 kB 4.2 MB/s eta 0:00:01\r\u001b[K     |███████████████                 | 204 kB 4.2 MB/s eta 0:00:01\r\u001b[K     |███████████████▋                | 215 kB 4.2 MB/s eta 0:00:01\r\u001b[K     |████████████████▍               | 225 kB 4.2 MB/s eta 0:00:01\r\u001b[K     |█████████████████▏              | 235 kB 4.2 MB/s eta 0:00:01\r\u001b[K     |██████████████████              | 245 kB 4.2 MB/s eta 0:00:01\r\u001b[K     |██████████████████▋             | 256 kB 4.2 MB/s eta 0:00:01\r\u001b[K     |███████████████████▍            | 266 kB 4.2 MB/s eta 0:00:01\r\u001b[K     |████████████████████▏           | 276 kB 4.2 MB/s eta 0:00:01\r\u001b[K     |████████████████████▉           | 286 kB 4.2 MB/s eta 0:00:01\r\u001b[K     |█████████████████████▋          | 296 kB 4.2 MB/s eta 0:00:01\r\u001b[K     |██████████████████████▍         | 307 kB 4.2 MB/s eta 0:00:01\r\u001b[K     |███████████████████████         | 317 kB 4.2 MB/s eta 0:00:01\r\u001b[K     |███████████████████████▉        | 327 kB 4.2 MB/s eta 0:00:01\r\u001b[K     |████████████████████████▋       | 337 kB 4.2 MB/s eta 0:00:01\r\u001b[K     |█████████████████████████▍      | 348 kB 4.2 MB/s eta 0:00:01\r\u001b[K     |██████████████████████████      | 358 kB 4.2 MB/s eta 0:00:01\r\u001b[K     |██████████████████████████▉     | 368 kB 4.2 MB/s eta 0:00:01\r\u001b[K     |███████████████████████████▋    | 378 kB 4.2 MB/s eta 0:00:01\r\u001b[K     |████████████████████████████▎   | 389 kB 4.2 MB/s eta 0:00:01\r\u001b[K     |█████████████████████████████   | 399 kB 4.2 MB/s eta 0:00:01\r\u001b[K     |█████████████████████████████▉  | 409 kB 4.2 MB/s eta 0:00:01\r\u001b[K     |██████████████████████████████▋ | 419 kB 4.2 MB/s eta 0:00:01\r\u001b[K     |███████████████████████████████▎| 430 kB 4.2 MB/s eta 0:00:01\r\u001b[K     |████████████████████████████████| 439 kB 4.2 MB/s \n",
            "\u001b[?25hRequirement already satisfied: nltk in /usr/local/lib/python3.7/dist-packages (3.2.5)\n",
            "Collecting twython\n",
            "  Downloading twython-3.9.1-py3-none-any.whl (33 kB)\n",
            "Requirement already satisfied: PyYAML>=3.10 in /usr/local/lib/python3.7/dist-packages (from mrjob) (3.13)\n",
            "Requirement already satisfied: six in /usr/local/lib/python3.7/dist-packages (from nltk) (1.15.0)\n",
            "Requirement already satisfied: requests>=2.1.0 in /usr/local/lib/python3.7/dist-packages (from twython) (2.23.0)\n",
            "Requirement already satisfied: requests-oauthlib>=0.4.0 in /usr/local/lib/python3.7/dist-packages (from twython) (1.3.0)\n",
            "Requirement already satisfied: chardet<4,>=3.0.2 in /usr/local/lib/python3.7/dist-packages (from requests>=2.1.0->twython) (3.0.4)\n",
            "Requirement already satisfied: certifi>=2017.4.17 in /usr/local/lib/python3.7/dist-packages (from requests>=2.1.0->twython) (2021.5.30)\n",
            "Requirement already satisfied: idna<3,>=2.5 in /usr/local/lib/python3.7/dist-packages (from requests>=2.1.0->twython) (2.10)\n",
            "Requirement already satisfied: urllib3!=1.25.0,!=1.25.1,<1.26,>=1.21.1 in /usr/local/lib/python3.7/dist-packages (from requests>=2.1.0->twython) (1.24.3)\n",
            "Requirement already satisfied: oauthlib>=3.0.0 in /usr/local/lib/python3.7/dist-packages (from requests-oauthlib>=0.4.0->twython) (3.1.1)\n",
            "Installing collected packages: twython, mrjob\n",
            "Successfully installed mrjob-0.7.4 twython-3.9.1\n"
          ]
        }
      ]
    },
    {
      "cell_type": "code",
      "metadata": {
        "id": "1P8u-xDBcyhv",
        "colab": {
          "base_uri": "https://localhost:8080/"
        },
        "outputId": "5d5cbf5c-4741-42e3-e957-408ce824826d"
      },
      "source": [
        "from google.colab import drive\n",
        "drive.mount('/content/drive/')"
      ],
      "execution_count": 2,
      "outputs": [
        {
          "output_type": "stream",
          "name": "stdout",
          "text": [
            "Mounted at /content/drive/\n"
          ]
        }
      ]
    },
    {
      "cell_type": "code",
      "metadata": {
        "id": "antgULJUdK25",
        "colab": {
          "base_uri": "https://localhost:8080/"
        },
        "outputId": "f723ee19-eba0-44eb-aeb3-ba63768484ef"
      },
      "source": [
        "%%file trab2.py\n",
        "\n",
        "from mrjob.job import MRJob\n",
        "from mrjob.step import MRStep\n",
        "import nltk\n",
        "from nltk.sentiment import SentimentIntensityAnalyzer\n",
        "from mrjob.protocol import TextProtocol\n",
        "import re\n",
        "import logging\n",
        "import sys\n",
        "\n",
        "class Sentiment(MRJob):\n",
        "  MRJob.SORT_VALUES = True\n",
        "\n",
        "  def steps(self):\n",
        "    return [\n",
        "            MRStep(mapper=self.mapper, \n",
        "                   mapper_init=self.mapper_init,\n",
        "                   combiner=self.combiner, \n",
        "                   reducer=self.reducer),\n",
        "            MRStep(reducer=self.reducer_ordenado) # Passo extra para ordenar os dados\n",
        "    ]\n",
        "\n",
        "  def mapper_init(self):\n",
        "    nltk.download('vader_lexicon', quiet=True)\n",
        "    nltk.download('punkt', quiet=True)\n",
        "    self.sentiment = SentimentIntensityAnalyzer()\n",
        "\n",
        "  def mapper(self, _, line):\n",
        "    campos = line.split(',') # Separando os campos da linha do arquivo\n",
        "\n",
        "    if campos[2] == 'False': # Verificando se quem enviou foi a marca\n",
        "      frases = nltk.sent_tokenize(campos[4]) # separando as frases do arquivo\n",
        "\n",
        "      for f in frases:\n",
        "        filtrada = re.sub('[^A-Za-z ]+', '', f) # Removendo caracteres especiais e emojis das frases\n",
        "        yield campos[1], [self.sentiment.polarity_scores(filtrada)['compound'], 1] # Gera uma saidado tipo: marca, [nota, 1]\n",
        "\n",
        "  def combiner(self, key, values):    \n",
        "    pontuacao = 0\n",
        "    numero_frases = 0\n",
        "\n",
        "    # Para cada linha temos uma marca, uma pontuacao e o numero de frases que somaram aquela pontuacao (por enquanto, 1)\n",
        "    # Neste for vamos agrupar e somar o valor de cada marca em cada combiner\n",
        "    for v in values:    \n",
        "      pontuacao += v[0] \n",
        "      numero_frases += v[1]\n",
        "    \n",
        "    yield key, [pontuacao, numero_frases]\n",
        "\n",
        "  def reducer(self, key, values):\n",
        "    pontuacao = 0\n",
        "    numero_frases = 0\n",
        "\n",
        "    # Agora vamos agrupar e somar a pontuacao de todas as frases de cada marca\n",
        "    for v in values:\n",
        "      pontuacao += v[0]\n",
        "      numero_frases += v[1]\n",
        "\n",
        "    # Calculando a media da pontuacao das frases de cada marca. \n",
        "    # Somamos um para evitar problemas na ordenacao\n",
        "    media = round(pontuacao / numero_frases, 3) + 1\n",
        "\n",
        "    # retornamos em ordem invertida pois o MRJob ira ordenar pelo primeiro valor ordenado\n",
        "    yield media, key\n",
        "  \n",
        "  def reducer_ordenado(self, key, values):\n",
        "    # Agora apenas retiramos o 1 que haviamos somado \n",
        "    # E retornamos os valores na ordem correta: Marca, pontuacao media\n",
        "    for v in values:\n",
        "      yield v, round(key-1, 3)\n",
        "\n",
        "if __name__ == '__main__':\n",
        "    logging.basicConfig(filename=\"log.txt\")\n",
        "    Sentiment.run()"
      ],
      "execution_count": 201,
      "outputs": [
        {
          "output_type": "stream",
          "name": "stdout",
          "text": [
            "Overwriting trab2.py\n"
          ]
        }
      ]
    },
    {
      "cell_type": "code",
      "metadata": {
        "id": "BygVmz6JuJLL",
        "colab": {
          "base_uri": "https://localhost:8080/"
        },
        "outputId": "f0619fbb-3240-4c33-cdef-eff6b5a3673f"
      },
      "source": [
        "!rm -f log.txt \n",
        "!rm temp1/* -f\n",
        "!python trab2.py \"/content/drive/My Drive/Unicamp/MDC/BigData/Trabalho2/twitter_cs/sample_clean.csv\" --output-dir=temp1"
      ],
      "execution_count": 202,
      "outputs": [
        {
          "output_type": "stream",
          "name": "stdout",
          "text": [
            "No configs found; falling back on auto-configuration\n",
            "No configs specified for inline runner\n",
            "Running step 1 of 2...\n",
            "Creating temp directory /tmp/trab2.root.20211107.174504.509617\n",
            "Running step 2 of 2...\n",
            "job output is in temp1\n",
            "Removing temp directory /tmp/trab2.root.20211107.174504.509617...\n"
          ]
        }
      ]
    },
    {
      "cell_type": "code",
      "metadata": {
        "colab": {
          "base_uri": "https://localhost:8080/"
        },
        "id": "TaLzI5fWbEqC",
        "outputId": "3199e9b0-722e-4e7b-9051-c76c669ec9b2"
      },
      "source": [
        "!cat temp1/*"
      ],
      "execution_count": 204,
      "outputs": [
        {
          "output_type": "stream",
          "name": "stdout",
          "text": [
            "\"Ask_Spectrum\"\t-0.411\n",
            "\"comcastcares\"\t-0.061\n",
            "\"British_Airways\"\t0.063\n",
            "\"sprintcare\"\t0.063\n",
            "\"ChaseSupport\"\t0.106\n",
            "\"UPSHelp\"\t0.113\n",
            "\"VirginTrains\"\t0.133\n",
            "\"SouthwestAir\"\t0.151\n",
            "\"Tesco\"\t0.167\n",
            "\"AppleSupport\"\t0.192\n",
            "\"SpotifyCares\"\t0.243\n",
            "\"HPSupport\"\t0.253\n",
            "\"O2\"\t0.33\n"
          ]
        }
      ]
    },
    {
      "cell_type": "code",
      "metadata": {
        "colab": {
          "base_uri": "https://localhost:8080/"
        },
        "id": "JAxE-RBW1eN1",
        "outputId": "04a0e112-d8fa-4c97-c94b-c963ba4d700d"
      },
      "source": [
        "!cat log.txt"
      ],
      "execution_count": 203,
      "outputs": [
        {
          "output_type": "stream",
          "name": "stdout",
          "text": [
            "INFO:mrjob.conf:No configs found; falling back on auto-configuration\n",
            "WARNING:mrjob.conf:No configs specified for inline runner\n",
            "INFO:mrjob.sim:Running step 1 of 2...\n",
            "INFO:mrjob.runner:Creating temp directory /tmp/trab2.root.20211107.174504.509617\n",
            "INFO:mrjob.sim:Running step 2 of 2...\n",
            "INFO:mrjob.runner:job output is in temp1\n",
            "INFO:mrjob.runner:Removing temp directory /tmp/trab2.root.20211107.174504.509617...\n"
          ]
        }
      ]
    },
    {
      "cell_type": "code",
      "metadata": {
        "id": "4vQneQhpUXBc",
        "colab": {
          "base_uri": "https://localhost:8080/"
        },
        "outputId": "beeea0d6-cac2-478c-a7c8-2a659c42c8e2"
      },
      "source": [
        "# Rodando o arquivo completo\n",
        "!python trab2.py \"/content/drive/My Drive/Unicamp/MDC/BigData/Trabalho2/twitter_cs/twcs_clean.csv.gz\" --output-dir=temp1"
      ],
      "execution_count": 205,
      "outputs": [
        {
          "output_type": "stream",
          "name": "stdout",
          "text": [
            "No configs found; falling back on auto-configuration\n",
            "No configs specified for inline runner\n",
            "Running step 1 of 2...\n",
            "Creating temp directory /tmp/trab2.root.20211107.174813.039569\n",
            "Running step 2 of 2...\n",
            "job output is in temp1\n",
            "Removing temp directory /tmp/trab2.root.20211107.174813.039569...\n"
          ]
        }
      ]
    },
    {
      "cell_type": "code",
      "metadata": {
        "colab": {
          "base_uri": "https://localhost:8080/"
        },
        "id": "X00nQmyqmqpr",
        "outputId": "5bb3ecd8-cc7c-4907-dd37-c82e2daa799f"
      },
      "source": [
        "!cat temp1/*"
      ],
      "execution_count": 206,
      "outputs": [
        {
          "output_type": "stream",
          "name": "stdout",
          "text": [
            "\"KFC_UKI_Help\"\t-0.018\n",
            "\"LondonMidland\"\t0.003\n",
            "\"SW_Help\"\t0.01\n",
            "\"GWRHelp\"\t0.012\n",
            "\"nationalrailenq\"\t0.013\n",
            "\"TacoBellTeam\"\t0.036\n",
            "\"askvisa\"\t0.054\n",
            "\"JackBox\"\t0.058\n",
            "\"MTNC_Care\"\t0.065\n",
            "\"USCellularCares\"\t0.065\n",
            "\"VirginTrains\"\t0.079\n",
            "\"VerizonSupport\"\t0.083\n",
            "\"AskSeagate\"\t0.086\n",
            "\"sainsburys\"\t0.087\n",
            "\"ChipotleTweets\"\t0.088\n",
            "\"AmazonHelp\"\t0.093\n",
            "\"VirginAtlantic\"\t0.094\n",
            "\"YahooCare\"\t0.095\n",
            "\"ArgosHelpers\"\t0.098\n",
            "\"NikeSupport\"\t0.098\n",
            "\"VirginAmerica\"\t0.101\n",
            "\"NortonSupport\"\t0.102\n",
            "\"GreggsOfficial\"\t0.108\n",
            "\"BoostCare\"\t0.109\n",
            "\"Safaricom_Care\"\t0.109\n",
            "\"British_Airways\"\t0.11\n",
            "\"hulu_support\"\t0.11\n",
            "\"GoDaddyHelp\"\t0.113\n",
            "\"Postmates_Help\"\t0.115\n",
            "\"ATVIAssist\"\t0.119\n",
            "\"CoxHelp\"\t0.123\n",
            "\"PearsonSupport\"\t0.125\n",
            "\"UPSHelp\"\t0.125\n",
            "\"idea_cares\"\t0.126\n",
            "\"PandoraSupport\"\t0.129\n",
            "\"AskPlayStation\"\t0.13\n",
            "\"NeweggService\"\t0.131\n",
            "\"TfL\"\t0.131\n",
            "\"AskLyft\"\t0.132\n",
            "\"JetBlue\"\t0.133\n",
            "\"XboxSupport\"\t0.134\n",
            "\"AzureSupport\"\t0.136\n",
            "\"AskeBay\"\t0.138\n",
            "\"AsurionCares\"\t0.14\n",
            "\"Morrisons\"\t0.141\n",
            "\"sprintcare\"\t0.141\n",
            "\"CarlsJr\"\t0.142\n",
            "\"O2\"\t0.142\n",
            "\"OfficeSupport\"\t0.142\n",
            "\"asksalesforce\"\t0.143\n",
            "\"DunkinDonuts\"\t0.144\n",
            "\"AlaskaAir\"\t0.145\n",
            "\"Delta\"\t0.145\n",
            "\"AdobeCare\"\t0.149\n",
            "\"TMobileHelp\"\t0.149\n",
            "\"SpotifyCares\"\t0.151\n",
            "\"AskPayPal\"\t0.153\n",
            "\"AskAmex\"\t0.155\n",
            "\"Ask_WellsFargo\"\t0.156\n",
            "\"IHGService\"\t0.156\n",
            "\"AskPapaJohns\"\t0.157\n",
            "\"Tesco\"\t0.157\n",
            "\"GloCare\"\t0.16\n",
            "\"VMUcare\"\t0.16\n",
            "\"AskRobinhood\"\t0.161\n",
            "\"MicrosoftHelps\"\t0.164\n",
            "\"AirAsiaSupport\"\t0.165\n",
            "\"Ask_Spectrum\"\t0.17\n",
            "\"DellCares\"\t0.174\n",
            "\"KeyBank_Help\"\t0.177\n",
            "\"AskDSC\"\t0.178\n",
            "\"HotelTonightCX\"\t0.18\n",
            "\"SouthwestAir\"\t0.18\n",
            "\"BofA_Help\"\t0.183\n",
            "\"AskVirginMoney\"\t0.185\n",
            "\"ATT\"\t0.187\n",
            "\"comcastcares\"\t0.187\n",
            "\"mediatemplehelp\"\t0.193\n",
            "\"Uber_Support\"\t0.196\n",
            "\"ask_progressive\"\t0.199\n",
            "\"AppleSupport\"\t0.208\n",
            "\"AskCiti\"\t0.211\n",
            "\"HiltonHelp\"\t0.215\n",
            "\"ArbysCares\"\t0.22\n",
            "\"CenturyLinkHelp\"\t0.22\n",
            "\"ChaseSupport\"\t0.22\n",
            "\"airtel_care\"\t0.221\n",
            "\"HPSupport\"\t0.222\n",
            "\"AWSSupport\"\t0.223\n",
            "\"DoorDash_Help\"\t0.224\n",
            "\"AirbnbHelp\"\t0.228\n",
            "\"GooglePlayMusic\"\t0.231\n",
            "\"DropboxSupport\"\t0.237\n",
            "\"AskTigogh\"\t0.241\n",
            "\"sizehelpteam\"\t0.241\n",
            "\"AskRBC\"\t0.247\n",
            "\"MOO\"\t0.249\n",
            "\"marksandspencer\"\t0.252\n",
            "\"AmericanAir\"\t0.254\n",
            "\"Walmart\"\t0.254\n",
            "\"OPPOCareIN\"\t0.256\n",
            "\"McDonalds\"\t0.26\n",
            "\"AskTarget\"\t0.278\n",
            "\"AldiUK\"\t0.279\n",
            "\"SCsupport\"\t0.294\n",
            "\"TwitterSupport\"\t0.296\n",
            "\"askpanera\"\t0.3\n",
            "\"Kimpton\"\t0.301\n"
          ]
        }
      ]
    },
    {
      "cell_type": "code",
      "metadata": {
        "id": "RDGaqJcRT_vx"
      },
      "source": [
        "!python trab2.py -r local \"/content/drive/My Drive/twitter_cs/sample_clean_larger.csv.gz\" "
      ],
      "execution_count": null,
      "outputs": []
    }
  ]
}