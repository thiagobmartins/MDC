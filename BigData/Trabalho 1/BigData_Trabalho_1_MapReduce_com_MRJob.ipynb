{
  "nbformat": 4,
  "nbformat_minor": 0,
  "metadata": {
    "colab": {
      "name": "BigData: Trabalho 1 - MapReduce com MRJob.ipynb",
      "provenance": [],
      "collapsed_sections": [],
      "toc_visible": true
    },
    "kernelspec": {
      "name": "python3",
      "display_name": "Python 3"
    }
  },
  "cells": [
    {
      "cell_type": "markdown",
      "metadata": {
        "id": "wKzZbwPJOaVC"
      },
      "source": [
        "# Membros do Grupo\n",
        "* Daniele Montenegro da Silva Barros\n",
        "* Rodrigo Dantas da Silva\n",
        "* Thiago Bruschi Martins\n"
      ]
    },
    {
      "cell_type": "markdown",
      "metadata": {
        "id": "TYeGbnhvd3zo"
      },
      "source": [
        "# Pacote de dados\n",
        "\n",
        "\n",
        "*   Abra o link do pacote de dados: https://tinyurl.com/bd10-auxilio\n",
        "*   Selecione a opção \"Adicionar Atalho ao Drive\"\n"
      ]
    },
    {
      "cell_type": "code",
      "metadata": {
        "id": "5OU9jC4pqnxO",
        "colab": {
          "base_uri": "https://localhost:8080/"
        },
        "outputId": "de57a32c-e1c1-49a6-9619-ac888718a140"
      },
      "source": [
        "!pip install mrjob"
      ],
      "execution_count": 3,
      "outputs": [
        {
          "output_type": "stream",
          "name": "stdout",
          "text": [
            "Collecting mrjob\n",
            "  Downloading mrjob-0.7.4-py2.py3-none-any.whl (439 kB)\n",
            "\u001b[?25l\r\u001b[K     |▊                               | 10 kB 17.7 MB/s eta 0:00:01\r\u001b[K     |█▌                              | 20 kB 23.3 MB/s eta 0:00:01\r\u001b[K     |██▎                             | 30 kB 13.4 MB/s eta 0:00:01\r\u001b[K     |███                             | 40 kB 10.0 MB/s eta 0:00:01\r\u001b[K     |███▊                            | 51 kB 5.4 MB/s eta 0:00:01\r\u001b[K     |████▌                           | 61 kB 5.5 MB/s eta 0:00:01\r\u001b[K     |█████▏                          | 71 kB 5.6 MB/s eta 0:00:01\r\u001b[K     |██████                          | 81 kB 6.3 MB/s eta 0:00:01\r\u001b[K     |██████▊                         | 92 kB 4.8 MB/s eta 0:00:01\r\u001b[K     |███████▌                        | 102 kB 5.1 MB/s eta 0:00:01\r\u001b[K     |████████▏                       | 112 kB 5.1 MB/s eta 0:00:01\r\u001b[K     |█████████                       | 122 kB 5.1 MB/s eta 0:00:01\r\u001b[K     |█████████▊                      | 133 kB 5.1 MB/s eta 0:00:01\r\u001b[K     |██████████▍                     | 143 kB 5.1 MB/s eta 0:00:01\r\u001b[K     |███████████▏                    | 153 kB 5.1 MB/s eta 0:00:01\r\u001b[K     |████████████                    | 163 kB 5.1 MB/s eta 0:00:01\r\u001b[K     |████████████▊                   | 174 kB 5.1 MB/s eta 0:00:01\r\u001b[K     |█████████████▍                  | 184 kB 5.1 MB/s eta 0:00:01\r\u001b[K     |██████████████▏                 | 194 kB 5.1 MB/s eta 0:00:01\r\u001b[K     |███████████████                 | 204 kB 5.1 MB/s eta 0:00:01\r\u001b[K     |███████████████▋                | 215 kB 5.1 MB/s eta 0:00:01\r\u001b[K     |████████████████▍               | 225 kB 5.1 MB/s eta 0:00:01\r\u001b[K     |█████████████████▏              | 235 kB 5.1 MB/s eta 0:00:01\r\u001b[K     |██████████████████              | 245 kB 5.1 MB/s eta 0:00:01\r\u001b[K     |██████████████████▋             | 256 kB 5.1 MB/s eta 0:00:01\r\u001b[K     |███████████████████▍            | 266 kB 5.1 MB/s eta 0:00:01\r\u001b[K     |████████████████████▏           | 276 kB 5.1 MB/s eta 0:00:01\r\u001b[K     |████████████████████▉           | 286 kB 5.1 MB/s eta 0:00:01\r\u001b[K     |█████████████████████▋          | 296 kB 5.1 MB/s eta 0:00:01\r\u001b[K     |██████████████████████▍         | 307 kB 5.1 MB/s eta 0:00:01\r\u001b[K     |███████████████████████         | 317 kB 5.1 MB/s eta 0:00:01\r\u001b[K     |███████████████████████▉        | 327 kB 5.1 MB/s eta 0:00:01\r\u001b[K     |████████████████████████▋       | 337 kB 5.1 MB/s eta 0:00:01\r\u001b[K     |█████████████████████████▍      | 348 kB 5.1 MB/s eta 0:00:01\r\u001b[K     |██████████████████████████      | 358 kB 5.1 MB/s eta 0:00:01\r\u001b[K     |██████████████████████████▉     | 368 kB 5.1 MB/s eta 0:00:01\r\u001b[K     |███████████████████████████▋    | 378 kB 5.1 MB/s eta 0:00:01\r\u001b[K     |████████████████████████████▎   | 389 kB 5.1 MB/s eta 0:00:01\r\u001b[K     |█████████████████████████████   | 399 kB 5.1 MB/s eta 0:00:01\r\u001b[K     |█████████████████████████████▉  | 409 kB 5.1 MB/s eta 0:00:01\r\u001b[K     |██████████████████████████████▋ | 419 kB 5.1 MB/s eta 0:00:01\r\u001b[K     |███████████████████████████████▎| 430 kB 5.1 MB/s eta 0:00:01\r\u001b[K     |████████████████████████████████| 439 kB 5.1 MB/s \n",
            "\u001b[?25hRequirement already satisfied: PyYAML>=3.10 in /usr/local/lib/python3.7/dist-packages (from mrjob) (3.13)\n",
            "Installing collected packages: mrjob\n",
            "Successfully installed mrjob-0.7.4\n"
          ]
        }
      ]
    },
    {
      "cell_type": "code",
      "metadata": {
        "id": "pwXDq_hhqVuI",
        "colab": {
          "base_uri": "https://localhost:8080/"
        },
        "outputId": "5605562e-0df8-4a56-eaee-cfe85023afcb"
      },
      "source": [
        "from google.colab import drive\n",
        "drive.mount('/content/drive')"
      ],
      "execution_count": 4,
      "outputs": [
        {
          "output_type": "stream",
          "name": "stdout",
          "text": [
            "Mounted at /content/drive\n"
          ]
        }
      ]
    },
    {
      "cell_type": "code",
      "metadata": {
        "id": "9j1swTizo3Ab",
        "colab": {
          "base_uri": "https://localhost:8080/"
        },
        "outputId": "fa04f2cd-3dee-4419-d2e0-3445f759a451"
      },
      "source": [
        "!ls \"/content/drive/My Drive/auxilio/\""
      ],
      "execution_count": 5,
      "outputs": [
        {
          "output_type": "stream",
          "name": "stdout",
          "text": [
            " auxilio_0.1pct.csv.gz\n",
            " auxilio_10pct.csv.gz\n",
            " auxilio_1pct.csv.gz\n",
            " auxilio.csv\n",
            " auxilio.csv.gz\n",
            "'Dicionário de Dados - Auxílio Emergencial - Portal da transparência.pdf'\n",
            " estimativa_dou_2021.csv\n"
          ]
        }
      ]
    },
    {
      "cell_type": "code",
      "metadata": {
        "id": "_zzC2hIHpt-J",
        "colab": {
          "base_uri": "https://localhost:8080/"
        },
        "outputId": "37679acd-05ac-408a-8cae-689350af70cc"
      },
      "source": [
        "!zcat \"/content/drive/My Drive/auxilio/auxilio.csv.gz\" | head"
      ],
      "execution_count": 4,
      "outputs": [
        {
          "output_type": "stream",
          "name": "stdout",
          "text": [
            "\"MÊS DISPONIBILIZAÇÃO\";\"UF\";\"CÓDIGO MUNICÍPIO IBGE\";\"NOME MUNICÍPIO\";\"NIS BENEFICIÁRIO\";\"CPF BENEFICIÁRIO\";\"NOME BENEFICIÁRIO\";\"NIS RESPONSÁVEL\";\"CPF RESPONSÁVEL\";\"NOME RESPONSÁVEL\";\"ENQUADRAMENTO\";\"PARCELA\";\"OBSERVAÇÃO\";\"VALOR BENEFÍCIO\"\r\n",
            "\"202011\";\"\";\"\";\"\";\"00000000000\";\"***.643.870-**\";\"\";\"-2\";\"\";\"Não se aplica\";\"EXTRA CADUN\";\"7ª\";\"Não há\";\"300,00\"\r\n",
            "\"202011\";\"\";\"\";\"\";\"00000000000\";\"***.108.816-**\";\"\";\"-2\";\"\";\"Não se aplica\";\"CADUN NAO BOLSA\";\"6ª\";\"Não há\";\"300,00\"\r\n",
            "\"202011\";\"\";\"\";\"\";\"00000000000\";\"***.095.215-**\";\"\";\"-2\";\"\";\"Não se aplica\";\"CADUN NAO BOLSA\";\"6ª\";\"Não há\";\"300,00\"\r\n",
            "\"202011\";\"\";\"\";\"\";\"00000000000\";\"***.108.816-**\";\"\";\"-2\";\"\";\"Não se aplica\";\"CADUN NAO BOLSA\";\"7ª\";\"Não há\";\"300,00\"\r\n",
            "\"202011\";\"\";\"\";\"\";\"00000000000\";\"***.885.226-**\";\"\";\"-2\";\"\";\"Não se aplica\";\"CADUN NAO BOLSA\";\"5ª\";\"Não há\";\"600,00\"\r\n",
            "\"202011\";\"\";\"\";\"\";\"00000000000\";\"***.885.226-**\";\"\";\"-2\";\"\";\"Não se aplica\";\"CADUN NAO BOLSA\";\"3ª\";\"Não há\";\"600,00\"\r\n",
            "\"202011\";\"\";\"\";\"\";\"00000000000\";\"***.885.226-**\";\"\";\"-2\";\"\";\"Não se aplica\";\"CADUN NAO BOLSA\";\"1ª\";\"Não há\";\"600,00\"\r\n",
            "\"202011\";\"\";\"\";\"\";\"00000000000\";\"***.885.226-**\";\"\";\"-2\";\"\";\"Não se aplica\";\"CADUN NAO BOLSA\";\"4ª\";\"Não há\";\"600,00\"\r\n",
            "\"202011\";\"\";\"\";\"\";\"00000000000\";\"***.885.226-**\";\"\";\"-2\";\"\";\"Não se aplica\";\"CADUN NAO BOLSA\";\"2ª\";\"Não há\";\"600,00\"\r\n"
          ]
        }
      ]
    },
    {
      "cell_type": "code",
      "metadata": {
        "id": "pU54MmPDq9ud",
        "colab": {
          "base_uri": "https://localhost:8080/"
        },
        "outputId": "b88c3201-8c4c-465a-c1db-dcbaa2243be4"
      },
      "source": [
        "%%file auxilio.py\n",
        "from mrjob.job import MRJob\n",
        "from mrjob.protocol import TextProtocol\n",
        "import re\n",
        "import logging\n",
        "import sys\n",
        "\n",
        "class Auxilio(MRJob):\n",
        "\n",
        "  OUTPUT_PROTOCOL = TextProtocol\n",
        "\n",
        "  def configure_args(self):\n",
        "    super(Auxilio, self).configure_args()\n",
        "    self.add_passthru_arg('--popFile', default=\"/content/drive/My Drive/auxilio/estimativa_dou_2021.csv\")\n",
        "\n",
        "  def mapper(self, _, line):\n",
        "    try :\n",
        "      campos = line.replace('\"','').lower().split(';') # Separa e remove as aspas dos campos\n",
        "      codmun = str(campos[2])\n",
        "      valor = str(campos[-1]).split(',')[0]\n",
        "      \n",
        "      # retorna o codigo do municipio e o valor pago\n",
        "      yield codmun, int(valor)\n",
        "    except :\n",
        "      logging.warning(\"linha descartada: \"+line)\n",
        "      pass\n",
        "\n",
        "  def reducer_init(self):\n",
        "    logging.warning(\"criando dicionário de municipios\")\n",
        "    popFile = open(self.options.popFile, \"r\")\n",
        "    self.popDict = {}\n",
        "    for line in popFile :\n",
        "      try :\n",
        "        uf,coduf,codmun,nome,pop = line.split(',')\n",
        "        self.popDict[coduf+codmun] = [nome, int(pop)]\n",
        "      except:\n",
        "        pass      \n",
        "    popFile.close()\n",
        "\n",
        "  def reducer(self, key, values):\n",
        "    try :\n",
        "      # Recupera o nome e a populacao da cidade\n",
        "      nome_cidade, pop = self.popDict[str(key)]\n",
        "\n",
        "      # Calcula o total de pagamento dividido pela populacao\n",
        "      pagamento_per_capita = round(sum(values) / pop, 2)\n",
        "    \n",
        "      yield str(nome_cidade), str(pagamento_per_capita)\n",
        "\n",
        "    except BaseException as err:\n",
        "      logging.warning(sys.exc_info()[1])\n",
        "\n",
        "if __name__ == '__main__':\n",
        "    logging.basicConfig(filename=\"log.txt\")\n",
        "    Auxilio.run()"
      ],
      "execution_count": 189,
      "outputs": [
        {
          "output_type": "stream",
          "name": "stdout",
          "text": [
            "Overwriting auxilio.py\n"
          ]
        }
      ]
    },
    {
      "cell_type": "code",
      "metadata": {
        "id": "K8NldWEus6e-"
      },
      "source": [
        "!rm log.txt\n",
        "!python auxilio.py \"/content/drive/My Drive/auxilio/auxilio_0.1pct.csv.gz\" > \"/content/drive/My Drive/pagamento_per_capita_01.txt\""
      ],
      "execution_count": null,
      "outputs": []
    },
    {
      "cell_type": "code",
      "metadata": {
        "id": "BJqL4kpsqYb8"
      },
      "source": [
        "!cat log.txt\n"
      ],
      "execution_count": null,
      "outputs": []
    },
    {
      "cell_type": "code",
      "metadata": {
        "id": "CVo9y2NHngkU",
        "colab": {
          "base_uri": "https://localhost:8080/"
        },
        "outputId": "d35ce7a5-01b5-4ca9-a820-05a1d1552de3"
      },
      "source": [
        "# Executa o script e salva a saida no arquito txt\n",
        "!python auxilio.py \"/content/drive/My Drive/auxilio/auxilio.csv.gz\"  > \"/content/drive/My Drive/pagamento_per_capita.txt\""
      ],
      "execution_count": 191,
      "outputs": [
        {
          "output_type": "stream",
          "name": "stdout",
          "text": [
            "No configs found; falling back on auto-configuration\n",
            "No configs specified for inline runner\n",
            "Creating temp directory /tmp/auxilio.root.20211029.143736.929087\n",
            "Running step 1 of 1...\n",
            "job output is in /tmp/auxilio.root.20211029.143736.929087/output\n",
            "Streaming final output from /tmp/auxilio.root.20211029.143736.929087/output...\n",
            "Removing temp directory /tmp/auxilio.root.20211029.143736.929087...\n"
          ]
        }
      ]
    },
    {
      "cell_type": "code",
      "metadata": {
        "id": "nEzvy2T5md3B"
      },
      "source": [
        "drive.flush_and_unmount()"
      ],
      "execution_count": null,
      "outputs": []
    }
  ]
}